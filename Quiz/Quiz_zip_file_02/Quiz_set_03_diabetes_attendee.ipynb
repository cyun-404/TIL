{
 "cells": [
  {
   "cell_type": "markdown",
   "metadata": {},
   "source": [
    "# 다음 문제를 풀이하시오."
   ]
  },
  {
   "cell_type": "markdown",
   "metadata": {},
   "source": [
    "### Q1. diabetes.csv 파일을 pandas 라이브러리 함수를 활용하여 읽어오고 해당 내용을 df 객체에 저장하시오.\n",
    "※ 다음 문항부터 df 객체를 기준으로 풀이하시오."
   ]
  },
  {
   "cell_type": "code",
   "execution_count": null,
   "metadata": {},
   "outputs": [],
   "source": []
  },
  {
   "cell_type": "markdown",
   "metadata": {},
   "source": [
    "### Q2. Pregnancies는 임신 경험 횟수라고 한다. 이 때 임신 경험이 없는 사람의 BMI와 그렇지 않은 사람의 BMI 평균을 산출하고 두 값을 서로 뺀 절대값을 확인하시오.\n",
    "※ 단, BMI가 0인 데이터는 제외하고 연산하시오. <br>\n",
    "※ 결과값은 반올림하여 소수점 첫 째 자리 까지 기술하시오."
   ]
  },
  {
   "cell_type": "code",
   "execution_count": null,
   "metadata": {},
   "outputs": [],
   "source": []
  },
  {
   "cell_type": "markdown",
   "metadata": {},
   "source": [
    "### Q3. Pregnancies와 Outcome변수를 제외한 변수의 값이 0인 것은 기록이 누락된것이라고 한다. 각 변수별로 기록이 누락된 데이터 개수를 정리하시오."
   ]
  },
  {
   "cell_type": "code",
   "execution_count": null,
   "metadata": {},
   "outputs": [],
   "source": []
  },
  {
   "cell_type": "markdown",
   "metadata": {},
   "source": [
    "### Q4. 기록이 하나라도 누락된 사람의 데이터는 제거하고 이를 df2 객체에 저장하시오. 이 때 총 몇 명의 데이터가 제거되었는가?\n",
    "※ 누락된 기록의 정의는 3번 문항을 참고하시오. <br>\n",
    "※ 다음 문항부터 df2 객체를 기준으로 풀이하시오."
   ]
  },
  {
   "cell_type": "code",
   "execution_count": null,
   "metadata": {},
   "outputs": [],
   "source": []
  },
  {
   "cell_type": "markdown",
   "metadata": {},
   "source": [
    "### Q5. Age 변수를 활용하여 나이를 10살 단위로 나눈 연령대 변수 Age_g 를 생성하고 해당 변수를 기준으로 BMI의 평균을 구했을 때 가장 높은 BMI의 평균을 기록한 연령대는?\n",
    "※ 변환 규칙 예시: 30 --> 3, 39 --> 3, 24 --> 2 <br>\n",
    "※ 정답 예시: 3"
   ]
  },
  {
   "cell_type": "code",
   "execution_count": null,
   "metadata": {},
   "outputs": [],
   "source": []
  },
  {
   "cell_type": "markdown",
   "metadata": {},
   "source": [
    "### Q6. 당뇨 또는 비만과 관계있는 변수를 모아서 그 상관관계를 확인하고자 한다. Glucose, SkinThickness, Insulin, BMI, DiabetesPedigreeFunction 변수간 Pearson 상관계수를 확인하고 그 값이 가장 높은 두 변수와 상관계수를 차례대로 기술하시오.\n",
    "※ 상관계수는 반올림하여 소수점 둘 째 자리 까지 기술하시오. <br>\n",
    "※ 정답 예시: A, B, 0.12"
   ]
  },
  {
   "cell_type": "code",
   "execution_count": null,
   "metadata": {},
   "outputs": [],
   "source": []
  }
 ],
 "metadata": {
  "kernelspec": {
   "display_name": "Python 3",
   "language": "python",
   "name": "python3"
  },
  "language_info": {
   "codemirror_mode": {
    "name": "ipython",
    "version": 3
   },
   "file_extension": ".py",
   "mimetype": "text/x-python",
   "name": "python",
   "nbconvert_exporter": "python",
   "pygments_lexer": "ipython3",
   "version": "3.7.6"
  }
 },
 "nbformat": 4,
 "nbformat_minor": 4
}

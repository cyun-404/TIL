{
 "cells": [
  {
   "cell_type": "markdown",
   "metadata": {},
   "source": [
    "# 독립성 검정"
   ]
  },
  {
   "cell_type": "markdown",
   "metadata": {},
   "source": [
    "--------------\n",
    "\n",
    "* 독립 기준 <br>\n",
    "$H_0$: 두 집단은 서로 독립이다. <br>\n",
    "$H_1$: 두 집단은 서로 독립이 아니다. <br>\n",
    "<br>\n",
    "* 연관 기준 <br>\n",
    "$H_0$: 두 집단은 서로 연관이 없다. <br>\n",
    "$H_1$: 두 집단은 서로 연관이 있다. \n",
    "\n",
    "---------------"
   ]
  },
  {
   "cell_type": "markdown",
   "metadata": {},
   "source": [
    "독립성 검정은 카이제곱(Chisq) 검정을 실시하며 scipy모듈을 활용할 수 있다."
   ]
  },
  {
   "cell_type": "code",
   "execution_count": 4,
   "metadata": {},
   "outputs": [],
   "source": [
    "from scipy.stats import chi2_contingency"
   ]
  },
  {
   "cell_type": "markdown",
   "metadata": {},
   "source": [
    "해당 모듈의 함수를 사용하기 위해서는 데이터를 table형태(contingency table)의 가공이 선행되어야 한다.<br>\n",
    "table형태로의 가공을 위해 pandas의 crosstab() 함수를 사용하는 것을 권장한다."
   ]
  },
  {
   "cell_type": "markdown",
   "metadata": {},
   "source": [
    "chi2_contingency() 함수의 결과는 다음의 순서로 제공된다.\n",
    "\n",
    "1. chi2(float): The test statistic.\n",
    "2. p-value(float): The p-value of the test\n",
    "3. df(int): Degrees of freedom\n",
    "4. expected(ndarray): The expected frequencies, based on the marginal sums of the table."
   ]
  },
  {
   "cell_type": "markdown",
   "metadata": {},
   "source": [
    "## traffic_accident.csv 파일을 기반으로 다음 문제를 풀이하시오."
   ]
  },
  {
   "cell_type": "code",
   "execution_count": null,
   "metadata": {},
   "outputs": [],
   "source": []
  },
  {
   "cell_type": "markdown",
   "metadata": {},
   "source": [
    "#### [문제 1] 교통사고 심각도(serious_yn)여부가 성별(sex)과 관계가 있는지 알아보시오.\n",
    "(단, 독립성 검정 함수에서 correction = False 로 설정한다.)"
   ]
  },
  {
   "cell_type": "code",
   "execution_count": null,
   "metadata": {},
   "outputs": [],
   "source": []
  },
  {
   "cell_type": "markdown",
   "metadata": {},
   "source": [
    "#### [문제 2] 교통사고 심각도(serious_yn)여부가 나이(age)와 관계가 있는지 알아보시오."
   ]
  },
  {
   "cell_type": "code",
   "execution_count": null,
   "metadata": {},
   "outputs": [],
   "source": []
  }
 ],
 "metadata": {
  "kernelspec": {
   "display_name": "Python 3",
   "language": "python",
   "name": "python3"
  },
  "language_info": {
   "codemirror_mode": {
    "name": "ipython",
    "version": 3
   },
   "file_extension": ".py",
   "mimetype": "text/x-python",
   "name": "python",
   "nbconvert_exporter": "python",
   "pygments_lexer": "ipython3",
   "version": "3.7.4"
  }
 },
 "nbformat": 4,
 "nbformat_minor": 2
}

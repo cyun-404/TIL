{
 "cells": [
  {
   "cell_type": "markdown",
   "metadata": {},
   "source": [
    "# 다음 문제를 풀이하시오."
   ]
  },
  {
   "cell_type": "markdown",
   "metadata": {},
   "source": [
    "### Q1. \"bike_rental.csv\"와 \"bike_weather.csv\"를 pandas 모듈을 활용하여 불러오고 객체 종류를 확인하시오.\n",
    "(불러온 파일을 각각 rental, weather 객체에 저장하시오.)"
   ]
  },
  {
   "cell_type": "code",
   "execution_count": null,
   "metadata": {},
   "outputs": [],
   "source": []
  },
  {
   "cell_type": "markdown",
   "metadata": {},
   "source": [
    "### Q2. casual 변수와 registered 변수의 합이 count변수의 합과 같다는 것을 증명하시오."
   ]
  },
  {
   "cell_type": "code",
   "execution_count": null,
   "metadata": {},
   "outputs": [],
   "source": []
  },
  {
   "cell_type": "markdown",
   "metadata": {},
   "source": [
    "### Q3. weather 객체에 rental 객체를 column 기준으로 concat() 함수를 활용하여 병합하시오.\n",
    "(데이터를 병합하여 df_con 객체에 저장하시오.)\n"
   ]
  },
  {
   "cell_type": "code",
   "execution_count": null,
   "metadata": {},
   "outputs": [],
   "source": []
  },
  {
   "cell_type": "markdown",
   "metadata": {},
   "source": [
    "### Q4. df_con 객체의 변수별 결측치 개수를 확인하시오."
   ]
  },
  {
   "cell_type": "code",
   "execution_count": null,
   "metadata": {},
   "outputs": [],
   "source": []
  },
  {
   "cell_type": "markdown",
   "metadata": {},
   "source": [
    "### Q5. pandas.DataFrame의 join() 을 활용하여 weather과 rental 데이터를 병합하시오.\n",
    "(병합한 데이터는 df_join에 저장하시오)\n",
    " * pandas.to_timedelta() 를 활용하시오\n",
    " * pandas.Series.astype() 를 활용하시오\n",
    " \n",
    "※ 힌트: 일 데이터에 to_timedelta() 함수로 변환된 시간 증분을 더하여 두 객체의 시간 형식을 맞추시오"
   ]
  },
  {
   "cell_type": "code",
   "execution_count": null,
   "metadata": {},
   "outputs": [],
   "source": []
  },
  {
   "cell_type": "markdown",
   "metadata": {},
   "source": [
    "### Q6. df_join의 변수별 결측치를 확인하시오."
   ]
  },
  {
   "cell_type": "code",
   "execution_count": null,
   "metadata": {},
   "outputs": [],
   "source": []
  }
 ],
 "metadata": {
  "kernelspec": {
   "display_name": "Python 3",
   "language": "python",
   "name": "python3"
  },
  "language_info": {
   "codemirror_mode": {
    "name": "ipython",
    "version": 3
   },
   "file_extension": ".py",
   "mimetype": "text/x-python",
   "name": "python",
   "nbconvert_exporter": "python",
   "pygments_lexer": "ipython3",
   "version": "3.7.6"
  }
 },
 "nbformat": 4,
 "nbformat_minor": 2
}
